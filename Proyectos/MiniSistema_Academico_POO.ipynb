{
 "cells": [
  {
   "cell_type": "markdown",
   "metadata": {},
   "source": [
    "# PROYECTO MINI SISTEMA ACADEMICO CON POO\n",
    "\n",
    "## Objetivo\n",
    "\n",
    "Aplicar de forma integral los conceptos de clases, objetos, atributos, metodos, encapsulamiento y metodos especiales para crear un sistema simple de gestión de estudiantes, materias y calificaciones"
   ]
  },
  {
   "cell_type": "markdown",
   "metadata": {},
   "source": [
    "1. ETRUCTURA DEL SISTEMA\n",
    "\n",
    "| CLASE | ATRIBUTOS | MÉTODOS PRINCIPALES |\n",
    "|-------|-----------|-------------------|\n",
    "| Alumno | cedula, nombre, edad, nota | puede_votar(), obtener_calificacion() |\n",
    "| Materia | nombre, creditos, docente | asignar_alumno(), listar_estudiantes() |\n",
    "| Sistema | materias(lista) | crear_materia(), ver_materias() |"
   ]
  },
  {
   "cell_type": "markdown",
   "metadata": {},
   "source": [
    "2. Requisitos funcionales\n",
    "\n",
    "* Registrar alumnos y asignarlos a materias\n",
    "* Listar los estudiantes de una materia\n",
    "* Consultar si un alumno aprueba la materia\n",
    "* Simular si puede votar por su edad\n",
    "* Mostrar resumen por alumno y por materia"
   ]
  },
  {
   "cell_type": "markdown",
   "metadata": {},
   "source": [
    "## ENUNCIADO\n",
    "\n",
    "1. Define una clase ALumno con atributos privados y metodos públicos(get,set,__str__)\n",
    "2. Define una clase Materia que pueda contener multiples objetos Alumno\n",
    "3. Agrega funcionalidad para agregar alumnos a una materia\n",
    "4. Implementa una clase SistemaAcademico que administre múltiples materias\n",
    "5. Muestra toda la información de alumnos por materia"
   ]
  },
  {
   "cell_type": "markdown",
   "metadata": {},
   "source": []
  },
  {
   "cell_type": "code",
   "execution_count": 5,
   "metadata": {},
   "outputs": [
    {
     "name": "stdout",
     "output_type": "stream",
     "text": [
      "Matemáticas (4 créditos) - Docente: Prof. Lopez\n",
      "Estudiantes en la materia: Matemáticas\n",
      "Luis - Cédula: 526, Edad: 17, Nota: 2.4, Reprobado, Puede votar: False\n",
      "Perla - Cédula: 145, Edad: 21, Nota: 3.3, Aprobado, Puede votar: True\n"
     ]
    }
   ],
   "source": [
    "class Alumno:\n",
    "    def __init__(self, cedula, nombre, edad, nota):\n",
    "        self._cedula = cedula\n",
    "        self._nombre = nombre\n",
    "        self._edad = edad\n",
    "        self._nota = nota\n",
    "        \n",
    "    def consultar_cedula(self):\n",
    "            return self._cedula\n",
    "\n",
    "    def consultar_nombre(self):\n",
    "            return self._nombre\n",
    "\n",
    "    def consultar_edad(self):\n",
    "            return self._edad\n",
    "\n",
    "    def consultar_nota(self):\n",
    "            return self._nota\n",
    "        \n",
    "    # Para saber si puede votar\n",
    "    def puede_votar(self):\n",
    "            return self._edad >= 18\n",
    "    \n",
    "    #Para saber si aprueba la materia\n",
    "    def obtener_calificacion(self):\n",
    "            if self._nota >= 3.0:\n",
    "                return \"Aprobado\" \n",
    "            else:\n",
    "                return \"Reprobado\"\n",
    "                \n",
    "        \n",
    "    def __str__(self):\n",
    "            return f\"{self._nombre} - Cédula: {self._cedula}, Edad: {self._edad}, Nota: {self._nota}, {self.obtener_calificacion()}, Puede votar: {self.puede_votar()}\"\n",
    "    \n",
    "    \n",
    "    \n",
    "class Materia:\n",
    "    def __init__(self, nombre, creditos, docente):\n",
    "        self.nombre = nombre\n",
    "        self.creditos = creditos\n",
    "        self.docente = docente\n",
    "        self.estudiantes = []  # Lista vacía para los alumnos\n",
    "\n",
    "    # Agregar un alumno a la materia\n",
    "    def asignar_alumno(self, alumno):\n",
    "        self.estudiantes.append(alumno)\n",
    "\n",
    "    # Mostrar todos los alumnos inscritos\n",
    "    def listar_estudiantes(self):\n",
    "        print(f\"Estudiantes en la materia: {self.nombre}\")\n",
    "        for alumno in self.estudiantes:\n",
    "            print(alumno)\n",
    "\n",
    "    def __str__(self):\n",
    "        return f\"{self.nombre} ({self.creditos} créditos) - Docente: {self.docente}\"\n",
    "    \n",
    "    \n",
    "    \n",
    "    \n",
    "class SistemaAcademico:\n",
    "    def __init__(self):\n",
    "        self.materias = []\n",
    "\n",
    "    def crear_materia(self, materia):\n",
    "        self.materias.append(materia)\n",
    "\n",
    "    def ver_materias(self):\n",
    "        for materia in self.materias:\n",
    "            print(materia)\n",
    "            materia.listar_estudiantes()\n",
    "            \n",
    "            \n",
    "alumno1 = Alumno(\"526\", \"Luis\", 17, 2.4)\n",
    "alumno2 = Alumno(\"145\", \"Perla\", 21, 3.3)\n",
    "\n",
    "materia1 = Materia(\"Matemáticas\", 4, \"Prof. Lopez\")\n",
    "\n",
    "materia1.asignar_alumno(alumno1)\n",
    "materia1.asignar_alumno(alumno2)\n",
    "\n",
    "sistema = SistemaAcademico()\n",
    "sistema.crear_materia(materia1)\n",
    "\n",
    "sistema.ver_materias()"
   ]
  }
 ],
 "metadata": {
  "kernelspec": {
   "display_name": "Python 3",
   "language": "python",
   "name": "python3"
  },
  "language_info": {
   "codemirror_mode": {
    "name": "ipython",
    "version": 3
   },
   "file_extension": ".py",
   "mimetype": "text/x-python",
   "name": "python",
   "nbconvert_exporter": "python",
   "pygments_lexer": "ipython3",
   "version": "3.12.3"
  }
 },
 "nbformat": 4,
 "nbformat_minor": 2
}
